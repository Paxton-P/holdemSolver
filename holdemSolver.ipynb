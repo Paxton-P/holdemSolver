{
 "cells": [
  {
   "cell_type": "code",
   "execution_count": 33,
   "metadata": {},
   "outputs": [],
   "source": [
    "hand1 = 'AH KD'\n",
    "hand2 = '4S 2S'\n",
    "board = '7S AH QS'"
   ]
  },
  {
   "cell_type": "code",
   "execution_count": 43,
   "metadata": {},
   "outputs": [],
   "source": [
    "cardValDict = {\n",
    "    '2': 0,\n",
    "    '3': 1,\n",
    "    '4': 2,\n",
    "    '5': 3,\n",
    "    '6': 4,\n",
    "    '7': 5,\n",
    "    '8': 6,\n",
    "    '9': 7,\n",
    "    '10': 8,\n",
    "    'J': 9,\n",
    "    'Q': 10,\n",
    "    'K': 11,\n",
    "    'A': 12,\n",
    "}\n",
    "\n",
    "\n",
    "class HandType:\n",
    "    HighCard = 1\n",
    "    Pair = 2\n",
    "    TwoPair = 3\n",
    "    ThreeKind = 4\n",
    "    Straight = 5\n",
    "    Flush = 6\n",
    "    FullHouse = 7\n",
    "    FourKind = 8\n",
    "    StraightFlush = 9\n",
    "\n",
    "class Card:\n",
    "    def __init__(self, cardStr):\n",
    "        self.cardVal = [cardValDict[cardStr[0:len(cardStr) - 1]], cardStr[len(cardStr) - 1]]\n",
    "\n",
    "    def __str__(self):\n",
    "        return str(self.cardVal[0]) + ' ' + self.cardVal[1]\n",
    "\n"
   ]
  },
  {
   "cell_type": "code",
   "execution_count": 51,
   "metadata": {},
   "outputs": [],
   "source": [
    "class Hand:\n",
    "    def __init__(self, handStr, boardStr):\n",
    "        self.handVal = self.convertCards(handStr)\n",
    "        self.boardVal = self.convertCards(boardStr)\n",
    "        print(self.handVal)\n",
    "        # self.handScore = self.scoreHand(self.handVal, self.boardVal)\n",
    "\n",
    "    def convertCards(self, handStr):\n",
    "        return [Card(c) for c in handStr.split(' ')]\n",
    "    \n",
    "    def scoreHand(self):\n",
    "        return\n",
    "\n",
    "    def __str__(self):\n",
    "        return [str(c) for c in self.handVal]\n",
    "\n"
   ]
  },
  {
   "cell_type": "code",
   "execution_count": 52,
   "metadata": {},
   "outputs": [
    {
     "name": "stdout",
     "output_type": "stream",
     "text": [
      "[<__main__.Card object at 0x000001FB55952B90>, <__main__.Card object at 0x000001FB55950F10>]\n",
      "[<__main__.Card object at 0x000001FB55952B90>, <__main__.Card object at 0x000001FB55950F10>]\n"
     ]
    }
   ],
   "source": [
    "testHand = Hand(hand1, board)\n",
    "print(testHand.handVal)"
   ]
  },
  {
   "cell_type": "code",
   "execution_count": null,
   "metadata": {},
   "outputs": [],
   "source": [
    "def determineWinner(hand1, hand2, board):\n",
    "    return 1"
   ]
  }
 ],
 "metadata": {
  "kernelspec": {
   "display_name": "Python 3",
   "language": "python",
   "name": "python3"
  },
  "language_info": {
   "codemirror_mode": {
    "name": "ipython",
    "version": 3
   },
   "file_extension": ".py",
   "mimetype": "text/x-python",
   "name": "python",
   "nbconvert_exporter": "python",
   "pygments_lexer": "ipython3",
   "version": "3.10.5"
  }
 },
 "nbformat": 4,
 "nbformat_minor": 2
}
